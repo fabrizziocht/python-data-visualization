{
 "cells": [
  {
   "cell_type": "markdown",
   "metadata": {
    "slideshow": {
     "slide_type": "slide"
    }
   },
   "source": [
    "## <center>Librerías de visualización de datos</center>\n",
    "\n",
    "**Autor:**\n",
    "*Fabrizzio Chávez Tejada*"
   ]
  },
  {
   "cell_type": "markdown",
   "metadata": {
    "slideshow": {
     "slide_type": "slide"
    }
   },
   "source": [
    "## 1.- Matplotlib\n",
    "### Ejemplo gráfico de barras"
   ]
  },
  {
   "cell_type": "code",
   "execution_count": 25,
   "metadata": {
    "scrolled": false,
    "slideshow": {
     "slide_type": "fragment"
    }
   },
   "outputs": [
    {
     "data": {
      "image/png": "[encoded data removed]",
      "text/plain": [
       "<Figure size 432x288 with 1 Axes>"
      ]
     },
     "metadata": {
      "needs_background": "light"
     },
     "output_type": "display_data"
    }
   ],
   "source": [
    "#Linea necesaria en jupyter notebooks para mostrar el gráfico\n",
    "%matplotlib inline\n",
    "\n",
    "# Importar matplotlib\n",
    "import matplotlib.pyplot as plt\n",
    "\n",
    "filas = range(5)    # crear serie de filas\n",
    "nro_ventas_trabajador_1 = (20, 35, 30, 35, 27)\n",
    "nro_ventas_trabajador_2 = (25, 32, 34, 20, 25)\n",
    "\n",
    "ancho = 0.4 # definir ancho de fila (opcional)\n",
    "\n",
    "# crear barras indicando el nro de filas, el arreglo de ventas del trabajador y el ancho\n",
    "p1 = plt.bar(filas, nro_ventas_trabajador_1, ancho)\n",
    "# bottom da un orden a las barras\n",
    "p2 = plt.bar(filas, nro_ventas_trabajador_2, ancho, bottom=nro_ventas_trabajador_1)\n",
    "\n",
    "plt.ylabel('Cantidad de ventas') # Etiqueta eje Y\n",
    "plt.title('Cantidad de ventas por trabajador') # Etiqueta eje X\n",
    "plt.xticks(filas, ('Enero', 'Febrero', 'Marzo', 'Abril', 'Mayo')) # Etiqueta para cada barra\n",
    "plt.yticks(range(0, 81, 10)) # Escala eje y\n",
    "plt.legend((p1[0], p2[0]), ('Trabajador 1', 'Trabajador 2')) # Leyenda\n",
    "\n",
    "# imprimir gráfico\n",
    "plt.show()"
   ]
  },
  {
   "cell_type": "markdown",
   "metadata": {
    "slideshow": {
     "slide_type": "slide"
    }
   },
   "source": [
    "## 2.- Seaborn\n",
    "### Ejemplo gráfico de barras"
   ]
  },
  {
   "cell_type": "code",
   "execution_count": 26,
   "metadata": {
    "slideshow": {
     "slide_type": "fragment"
    }
   },
   "outputs": [
    {
     "data": {
      "text/plain": [
       "<seaborn.axisgrid.FacetGrid at 0x12cbb0c16a0>"
      ]
     },
     "execution_count": 26,
     "metadata": {},
     "output_type": "execute_result"
    },
    {
     "data": {
      "image/png": "[encoded data removed]",
      "text/plain": [
       "<Figure size 501.6x432 with 1 Axes>"
      ]
     },
     "metadata": {
      "needs_background": "light"
     },
     "output_type": "display_data"
    }
   ],
   "source": [
    "# Al ser una librería basada en matplotlib podemos usar esta linea en jupyter notebooks\n",
    "%matplotlib inline\n",
    "import seaborn as sns\n",
    "import pandas as pd\n",
    "\n",
    "# datos de prueba\n",
    "ls_data = [{'ciudad':'Valencia', 'temperatura':10, 'instante':'dia'},\n",
    "           {'ciudad':'Barcelona', 'temperatura':8, 'instante':'dia'},\n",
    "           {'ciudad':'Valencia', 'temperatura':9, 'instante':'dia'},\n",
    "           {'ciudad':'Madrid', 'temperatura':10, 'instante':'dia'},\n",
    "           {'ciudad':'Sevilla', 'temperatura':15, 'instante':'dia'},\n",
    "           {'ciudad':'Valencia', 'temperatura':8, 'instante':'noche'},\n",
    "           {'ciudad':'Valencia', 'temperatura':5, 'instante':'noche'},\n",
    "           {'ciudad':'Barcelona', 'temperatura':3, 'instante':'noche'},\n",
    "           {'ciudad':'Valencia', 'temperatura':8, 'instante':'noche'},\n",
    "           {'ciudad':'Madrid', 'temperatura':15, 'instante':'noche'},\n",
    "           {'ciudad':'Sevilla', 'temperatura':6, 'instante':'noche'},\n",
    "           {'ciudad':'Valencia', 'temperatura':9, 'instante':'noche'}\n",
    "          ]\n",
    "#creamos un dataframe con pandas\n",
    "df_data = pd.DataFrame(ls_data)\n",
    "\n",
    "#creación del gráfico de barras\n",
    "sns.catplot(x='ciudad', y='temperatura', hue='instante', height=6, kind=\"bar\", data = df_data, palette='Spectral')"
   ]
  },
  {
   "cell_type": "markdown",
   "metadata": {
    "slideshow": {
     "slide_type": "slide"
    }
   },
   "source": [
    "## 3.- Bokeh\n",
    "### Ejemplo gráfico de barras"
   ]
  },
  {
   "cell_type": "code",
   "execution_count": 37,
   "metadata": {
    "scrolled": true,
    "slideshow": {
     "slide_type": "fragment"
    }
   },
   "outputs": [
    {
     "data": {
      "text/html": [
       "\n",
       "\n",
       "\n",
       "\n",
       "\n",
       "\n",
       "  <div class=\"bk-root\" id=\"4676126c-10d3-43a8-bcc6-a627359b32ec\" data-root-id=\"2486\"></div>\n"
      ]
     },
     "metadata": {},
     "output_type": "display_data"
    },
    {
     "data": {
      "application/javascript": [
       "(function(root) {\n",
       "  function embed_document(root) {\n",
       "    \n",
       "  var docs_json = {\"f6aefe0b-6590-4727-9922-58c8f4c54766\":{\"roots\":{\"references\":[{\"attributes\":{\"below\":[{\"id\":\"2496\",\"type\":\"LinearAxis\"}],\"left\":[{\"id\":\"2501\",\"type\":\"LogAxis\"}],\"renderers\":[{\"id\":\"2496\",\"type\":\"LinearAxis\"},{\"id\":\"2500\",\"type\":\"Grid\"},{\"id\":\"2501\",\"type\":\"LogAxis\"},{\"id\":\"2505\",\"type\":\"Grid\"},{\"id\":\"2511\",\"type\":\"BoxAnnotation\"},{\"id\":\"2528\",\"type\":\"Legend\"},{\"id\":\"2520\",\"type\":\"GlyphRenderer\"},{\"id\":\"2533\",\"type\":\"GlyphRenderer\"},{\"id\":\"2546\",\"type\":\"GlyphRenderer\"},{\"id\":\"2562\",\"type\":\"GlyphRenderer\"},{\"id\":\"2580\",\"type\":\"GlyphRenderer\"},{\"id\":\"2599\",\"type\":\"GlyphRenderer\"}],\"title\":{\"id\":\"2485\",\"type\":\"Title\"},\"toolbar\":{\"id\":\"2510\",\"type\":\"Toolbar\"},\"x_range\":{\"id\":\"2488\",\"type\":\"DataRange1d\"},\"x_scale\":{\"id\":\"2492\",\"type\":\"LinearScale\"},\"y_range\":{\"id\":\"2490\",\"type\":\"Range1d\"},\"y_scale\":{\"id\":\"2494\",\"type\":\"LogScale\"}},\"id\":\"2486\",\"subtype\":\"Figure\",\"type\":\"Plot\"},{\"attributes\":{\"source\":{\"id\":\"2577\",\"type\":\"ColumnDataSource\"}},\"id\":\"2581\",\"type\":\"CDSView\"},{\"attributes\":{\"overlay\":{\"id\":\"2511\",\"type\":\"BoxAnnotation\"}},\"id\":\"2507\",\"type\":\"BoxZoomTool\"},{\"attributes\":{\"callback\":null,\"data\":{\"x\":[0.1,0.5,1.0,1.5,2.0,2.5,3.0],\"y\":[0.1,0.5,1.0,1.5,2.0,2.5,3.0]},\"selected\":{\"id\":\"2556\",\"type\":\"Selection\"},\"selection_policy\":{\"id\":\"2555\",\"type\":\"UnionRenderers\"}},\"id\":\"2530\",\"type\":\"ColumnDataSource\"},{\"attributes\":{},\"id\":\"2540\",\"type\":\"UnionRenderers\"},{\"attributes\":{\"line_alpha\":0.1,\"line_color\":\"#1f77b4\",\"line_width\":3,\"x\":{\"field\":\"x\"},\"y\":{\"field\":\"y\"}},\"id\":\"2545\",\"type\":\"Line\"},{\"attributes\":{},\"id\":\"2593\",\"type\":\"UnionRenderers\"},{\"attributes\":{},\"id\":\"2509\",\"type\":\"SaveTool\"},{\"attributes\":{\"data_source\":{\"id\":\"2543\",\"type\":\"ColumnDataSource\"},\"glyph\":{\"id\":\"2544\",\"type\":\"Line\"},\"hover_glyph\":null,\"muted_glyph\":null,\"nonselection_glyph\":{\"id\":\"2545\",\"type\":\"Line\"},\"selection_glyph\":null,\"view\":{\"id\":\"2547\",\"type\":\"CDSView\"}},\"id\":\"2546\",\"type\":\"GlyphRenderer\"},{\"attributes\":{\"data_source\":{\"id\":\"2517\",\"type\":\"ColumnDataSource\"},\"glyph\":{\"id\":\"2518\",\"type\":\"Line\"},\"hover_glyph\":null,\"muted_glyph\":null,\"nonselection_glyph\":{\"id\":\"2519\",\"type\":\"Line\"},\"selection_glyph\":null,\"view\":{\"id\":\"2521\",\"type\":\"CDSView\"}},\"id\":\"2520\",\"type\":\"GlyphRenderer\"},{\"attributes\":{\"callback\":null},\"id\":\"2488\",\"type\":\"DataRange1d\"},{\"attributes\":{\"plot\":null,\"text\":\"Ejemplo de lineas de tendencia\"},\"id\":\"2485\",\"type\":\"Title\"},{\"attributes\":{\"fill_alpha\":{\"value\":0.1},\"fill_color\":{\"value\":\"#1f77b4\"},\"line_alpha\":{\"value\":0.1},\"line_color\":{\"value\":\"#1f77b4\"},\"size\":{\"units\":\"screen\",\"value\":8},\"x\":{\"field\":\"x\"},\"y\":{\"field\":\"y\"}},\"id\":\"2532\",\"type\":\"Circle\"},{\"attributes\":{},\"id\":\"2508\",\"type\":\"ResetTool\"},{\"attributes\":{},\"id\":\"2594\",\"type\":\"Selection\"},{\"attributes\":{\"dimension\":1,\"plot\":{\"id\":\"2486\",\"subtype\":\"Figure\",\"type\":\"Plot\"},\"ticker\":{\"id\":\"2502\",\"type\":\"LogTicker\"}},\"id\":\"2505\",\"type\":\"Grid\"},{\"attributes\":{\"source\":{\"id\":\"2543\",\"type\":\"ColumnDataSource\"}},\"id\":\"2547\",\"type\":\"CDSView\"},{\"attributes\":{},\"id\":\"2696\",\"type\":\"UnionRenderers\"},{\"attributes\":{\"line_color\":\"#1f77b4\",\"x\":{\"field\":\"x\"},\"y\":{\"field\":\"y\"}},\"id\":\"2518\",\"type\":\"Line\"},{\"attributes\":{\"line_alpha\":0.1,\"line_color\":\"#1f77b4\",\"x\":{\"field\":\"x\"},\"y\":{\"field\":\"y\"}},\"id\":\"2519\",\"type\":\"Line\"},{\"attributes\":{},\"id\":\"2555\",\"type\":\"UnionRenderers\"},{\"attributes\":{\"line_color\":\"orange\",\"line_dash\":[4,4],\"x\":{\"field\":\"x\"},\"y\":{\"field\":\"y\"}},\"id\":\"2597\",\"type\":\"Line\"},{\"attributes\":{},\"id\":\"2556\",\"type\":\"Selection\"},{\"attributes\":{\"line_alpha\":0.1,\"line_color\":\"#1f77b4\",\"line_dash\":[4,4],\"x\":{\"field\":\"x\"},\"y\":{\"field\":\"y\"}},\"id\":\"2598\",\"type\":\"Line\"},{\"attributes\":{\"bottom_units\":\"screen\",\"fill_alpha\":{\"value\":0.5},\"fill_color\":{\"value\":\"lightgrey\"},\"left_units\":\"screen\",\"level\":\"overlay\",\"line_alpha\":{\"value\":1.0},\"line_color\":{\"value\":\"black\"},\"line_dash\":[4,4],\"line_width\":{\"value\":2},\"plot\":null,\"render_mode\":\"css\",\"right_units\":\"screen\",\"top_units\":\"screen\"},\"id\":\"2511\",\"type\":\"BoxAnnotation\"},{\"attributes\":{\"label\":{\"value\":\"y=x^2\"},\"renderers\":[{\"id\":\"2546\",\"type\":\"GlyphRenderer\"}]},\"id\":\"2558\",\"type\":\"LegendItem\"},{\"attributes\":{\"data_source\":{\"id\":\"2596\",\"type\":\"ColumnDataSource\"},\"glyph\":{\"id\":\"2597\",\"type\":\"Line\"},\"hover_glyph\":null,\"muted_glyph\":null,\"nonselection_glyph\":{\"id\":\"2598\",\"type\":\"Line\"},\"selection_glyph\":null,\"view\":{\"id\":\"2600\",\"type\":\"CDSView\"}},\"id\":\"2599\",\"type\":\"GlyphRenderer\"},{\"attributes\":{\"callback\":null,\"data\":{\"x\":[0.1,0.5,1.0,1.5,2.0,2.5,3.0],\"y\":[0.1,0.5,1.0,1.5,2.0,2.5,3.0]},\"selected\":{\"id\":\"2541\",\"type\":\"Selection\"},\"selection_policy\":{\"id\":\"2540\",\"type\":\"UnionRenderers\"}},\"id\":\"2517\",\"type\":\"ColumnDataSource\"},{\"attributes\":{},\"id\":\"2492\",\"type\":\"LinearScale\"},{\"attributes\":{},\"id\":\"2573\",\"type\":\"UnionRenderers\"},{\"attributes\":{\"active_drag\":\"auto\",\"active_inspect\":\"auto\",\"active_multi\":null,\"active_scroll\":\"auto\",\"active_tap\":\"auto\",\"tools\":[{\"id\":\"2506\",\"type\":\"PanTool\"},{\"id\":\"2507\",\"type\":\"BoxZoomTool\"},{\"id\":\"2508\",\"type\":\"ResetTool\"},{\"id\":\"2509\",\"type\":\"SaveTool\"}]},\"id\":\"2510\",\"type\":\"Toolbar\"},{\"attributes\":{\"callback\":null,\"end\":100000000000,\"start\":0.001},\"id\":\"2490\",\"type\":\"Range1d\"},{\"attributes\":{\"line_color\":\"#1f77b4\",\"line_width\":3,\"x\":{\"field\":\"x\"},\"y\":{\"field\":\"y\"}},\"id\":\"2544\",\"type\":\"Line\"},{\"attributes\":{\"source\":{\"id\":\"2596\",\"type\":\"ColumnDataSource\"}},\"id\":\"2600\",\"type\":\"CDSView\"},{\"attributes\":{\"line_color\":\"red\",\"x\":{\"field\":\"x\"},\"y\":{\"field\":\"y\"}},\"id\":\"2560\",\"type\":\"Line\"},{\"attributes\":{\"callback\":null,\"data\":{\"x\":[0.1,0.5,1.0,1.5,2.0,2.5,3.0],\"y\":[0.010000000000000002,0.25,1.0,2.25,4.0,6.25,9.0]},\"selected\":{\"id\":\"2574\",\"type\":\"Selection\"},\"selection_policy\":{\"id\":\"2573\",\"type\":\"UnionRenderers\"}},\"id\":\"2543\",\"type\":\"ColumnDataSource\"},{\"attributes\":{\"items\":[{\"id\":\"2529\",\"type\":\"LegendItem\"},{\"id\":\"2558\",\"type\":\"LegendItem\"},{\"id\":\"2576\",\"type\":\"LegendItem\"},{\"id\":\"2617\",\"type\":\"LegendItem\"}],\"plot\":{\"id\":\"2486\",\"subtype\":\"Figure\",\"type\":\"Plot\"}},\"id\":\"2528\",\"type\":\"Legend\"},{\"attributes\":{\"callback\":null,\"data\":{\"x\":[0.1,0.5,1.0,1.5,2.0,2.5,3.0],\"y\":[1.2589254117941673,3.1622776601683795,10.0,31.622776601683793,100.0,316.22776601683796,1000.0]},\"selected\":{\"id\":\"2615\",\"type\":\"Selection\"},\"selection_policy\":{\"id\":\"2614\",\"type\":\"UnionRenderers\"}},\"id\":\"2577\",\"type\":\"ColumnDataSource\"},{\"attributes\":{},\"id\":\"2614\",\"type\":\"UnionRenderers\"},{\"attributes\":{},\"id\":\"2494\",\"type\":\"LogScale\"},{\"attributes\":{},\"id\":\"2525\",\"type\":\"BasicTickFormatter\"},{\"attributes\":{\"line_alpha\":0.1,\"line_color\":\"#1f77b4\",\"x\":{\"field\":\"x\"},\"y\":{\"field\":\"y\"}},\"id\":\"2561\",\"type\":\"Line\"},{\"attributes\":{},\"id\":\"2615\",\"type\":\"Selection\"},{\"attributes\":{\"data_source\":{\"id\":\"2559\",\"type\":\"ColumnDataSource\"},\"glyph\":{\"id\":\"2560\",\"type\":\"Line\"},\"hover_glyph\":null,\"muted_glyph\":null,\"nonselection_glyph\":{\"id\":\"2561\",\"type\":\"Line\"},\"selection_glyph\":null,\"view\":{\"id\":\"2563\",\"type\":\"CDSView\"}},\"id\":\"2562\",\"type\":\"GlyphRenderer\"},{\"attributes\":{\"ticker\":null},\"id\":\"2523\",\"type\":\"LogTickFormatter\"},{\"attributes\":{},\"id\":\"2497\",\"type\":\"BasicTicker\"},{\"attributes\":{\"label\":{\"value\":\"y=10^x^2\"},\"renderers\":[{\"id\":\"2599\",\"type\":\"GlyphRenderer\"}]},\"id\":\"2617\",\"type\":\"LegendItem\"},{\"attributes\":{\"fill_color\":{\"value\":\"white\"},\"line_color\":{\"value\":\"#1f77b4\"},\"size\":{\"units\":\"screen\",\"value\":8},\"x\":{\"field\":\"x\"},\"y\":{\"field\":\"y\"}},\"id\":\"2531\",\"type\":\"Circle\"},{\"attributes\":{\"axis_label\":\"secciones\",\"formatter\":{\"id\":\"2525\",\"type\":\"BasicTickFormatter\"},\"plot\":{\"id\":\"2486\",\"subtype\":\"Figure\",\"type\":\"Plot\"},\"ticker\":{\"id\":\"2497\",\"type\":\"BasicTicker\"}},\"id\":\"2496\",\"type\":\"LinearAxis\"},{\"attributes\":{\"source\":{\"id\":\"2517\",\"type\":\"ColumnDataSource\"}},\"id\":\"2521\",\"type\":\"CDSView\"},{\"attributes\":{\"source\":{\"id\":\"2559\",\"type\":\"ColumnDataSource\"}},\"id\":\"2563\",\"type\":\"CDSView\"},{\"attributes\":{\"plot\":{\"id\":\"2486\",\"subtype\":\"Figure\",\"type\":\"Plot\"},\"ticker\":{\"id\":\"2497\",\"type\":\"BasicTicker\"}},\"id\":\"2500\",\"type\":\"Grid\"},{\"attributes\":{},\"id\":\"2541\",\"type\":\"Selection\"},{\"attributes\":{},\"id\":\"2697\",\"type\":\"Selection\"},{\"attributes\":{},\"id\":\"2574\",\"type\":\"Selection\"},{\"attributes\":{\"axis_label\":\"part\\u00edculas\",\"formatter\":{\"id\":\"2523\",\"type\":\"LogTickFormatter\"},\"plot\":{\"id\":\"2486\",\"subtype\":\"Figure\",\"type\":\"Plot\"},\"ticker\":{\"id\":\"2502\",\"type\":\"LogTicker\"}},\"id\":\"2501\",\"type\":\"LogAxis\"},{\"attributes\":{\"label\":{\"value\":\"y=10^x\"},\"renderers\":[{\"id\":\"2562\",\"type\":\"GlyphRenderer\"},{\"id\":\"2580\",\"type\":\"GlyphRenderer\"}]},\"id\":\"2576\",\"type\":\"LegendItem\"},{\"attributes\":{\"label\":{\"value\":\"y=x\"},\"renderers\":[{\"id\":\"2520\",\"type\":\"GlyphRenderer\"},{\"id\":\"2533\",\"type\":\"GlyphRenderer\"}]},\"id\":\"2529\",\"type\":\"LegendItem\"},{\"attributes\":{\"num_minor_ticks\":10},\"id\":\"2502\",\"type\":\"LogTicker\"},{\"attributes\":{\"callback\":null,\"data\":{\"x\":[0.1,0.5,1.0,1.5,2.0,2.5,3.0],\"y\":[1.023292992280754,1.7782794100389228,10.0,177.82794100389228,10000.0,1778279.410038923,1000000000.0]},\"selected\":{\"id\":\"2697\",\"type\":\"Selection\"},\"selection_policy\":{\"id\":\"2696\",\"type\":\"UnionRenderers\"}},\"id\":\"2596\",\"type\":\"ColumnDataSource\"},{\"attributes\":{\"fill_color\":{\"value\":\"red\"},\"line_color\":{\"value\":\"red\"},\"size\":{\"units\":\"screen\",\"value\":6},\"x\":{\"field\":\"x\"},\"y\":{\"field\":\"y\"}},\"id\":\"2578\",\"type\":\"Circle\"},{\"attributes\":{},\"id\":\"2506\",\"type\":\"PanTool\"},{\"attributes\":{\"fill_alpha\":{\"value\":0.1},\"fill_color\":{\"value\":\"#1f77b4\"},\"line_alpha\":{\"value\":0.1},\"line_color\":{\"value\":\"#1f77b4\"},\"size\":{\"units\":\"screen\",\"value\":6},\"x\":{\"field\":\"x\"},\"y\":{\"field\":\"y\"}},\"id\":\"2579\",\"type\":\"Circle\"},{\"attributes\":{\"data_source\":{\"id\":\"2530\",\"type\":\"ColumnDataSource\"},\"glyph\":{\"id\":\"2531\",\"type\":\"Circle\"},\"hover_glyph\":null,\"muted_glyph\":null,\"nonselection_glyph\":{\"id\":\"2532\",\"type\":\"Circle\"},\"selection_glyph\":null,\"view\":{\"id\":\"2534\",\"type\":\"CDSView\"}},\"id\":\"2533\",\"type\":\"GlyphRenderer\"},{\"attributes\":{\"data_source\":{\"id\":\"2577\",\"type\":\"ColumnDataSource\"},\"glyph\":{\"id\":\"2578\",\"type\":\"Circle\"},\"hover_glyph\":null,\"muted_glyph\":null,\"nonselection_glyph\":{\"id\":\"2579\",\"type\":\"Circle\"},\"selection_glyph\":null,\"view\":{\"id\":\"2581\",\"type\":\"CDSView\"}},\"id\":\"2580\",\"type\":\"GlyphRenderer\"},{\"attributes\":{\"callback\":null,\"data\":{\"x\":[0.1,0.5,1.0,1.5,2.0,2.5,3.0],\"y\":[1.2589254117941673,3.1622776601683795,10.0,31.622776601683793,100.0,316.22776601683796,1000.0]},\"selected\":{\"id\":\"2594\",\"type\":\"Selection\"},\"selection_policy\":{\"id\":\"2593\",\"type\":\"UnionRenderers\"}},\"id\":\"2559\",\"type\":\"ColumnDataSource\"},{\"attributes\":{\"source\":{\"id\":\"2530\",\"type\":\"ColumnDataSource\"}},\"id\":\"2534\",\"type\":\"CDSView\"}],\"root_ids\":[\"2486\"]},\"title\":\"Bokeh Application\",\"version\":\"1.0.4\"}};\n",
       "  var render_items = [{\"docid\":\"f6aefe0b-6590-4727-9922-58c8f4c54766\",\"roots\":{\"2486\":\"4676126c-10d3-43a8-bcc6-a627359b32ec\"}}];\n",
       "  root.Bokeh.embed.embed_items_notebook(docs_json, render_items);\n",
       "\n",
       "  }\n",
       "  if (root.Bokeh !== undefined) {\n",
       "    embed_document(root);\n",
       "  } else {\n",
       "    var attempts = 0;\n",
       "    var timer = setInterval(function(root) {\n",
       "      if (root.Bokeh !== undefined) {\n",
       "        embed_document(root);\n",
       "        clearInterval(timer);\n",
       "      }\n",
       "      attempts++;\n",
       "      if (attempts > 100) {\n",
       "        console.log(\"Bokeh: ERROR: Unable to run BokehJS code because BokehJS library is missing\");\n",
       "        clearInterval(timer);\n",
       "      }\n",
       "    }, 10, root)\n",
       "  }\n",
       "})(window);"
      ],
      "application/vnd.bokehjs_exec.v0+json": ""
     },
     "metadata": {
      "application/vnd.bokehjs_exec.v0+json": {
       "id": "2486"
      }
     },
     "output_type": "display_data"
    }
   ],
   "source": [
    "from bokeh.plotting import figure, output_file, show\n",
    "\n",
    "# datos de prueba\n",
    "x = [0.1, 0.5, 1.0, 1.5, 2.0, 2.5, 3.0] # rango eje x\n",
    "y0 = [i**2 for i in x] # linea 1\n",
    "y1 = [10**i for i in x] # linea 2\n",
    "y2 = [10**(i**2) for i in x] # linea 3\n",
    "\n",
    "# esta linea permite exportar el gráfico a un archivo html\n",
    "output_file(\"lineas.html\")\n",
    "\n",
    "# creación de un plot\n",
    "p = figure(\n",
    "   tools=\"pan,box_zoom,reset,save\", # opciones de interacción con el gráfico\n",
    "   y_axis_type=\"log\", y_range=[0.001, 10**11], title=\"Ejemplo de lineas de tendencia\",\n",
    "   x_axis_label='secciones', y_axis_label='partículas'\n",
    ")\n",
    "\n",
    "# ajustes visuales\n",
    "p.line(x, x, legend=\"y=x\")\n",
    "p.circle(x, x, legend=\"y=x\", fill_color=\"white\", size=8)\n",
    "p.line(x, y0, legend=\"y=x^2\", line_width=3)\n",
    "p.line(x, y1, legend=\"y=10^x\", line_color=\"red\")\n",
    "p.circle(x, y1, legend=\"y=10^x\", fill_color=\"red\", line_color=\"red\", size=6)\n",
    "p.line(x, y2, legend=\"y=10^x^2\", line_color=\"orange\", line_dash=\"4 4\")\n",
    "\n",
    "# mostrar los resultados\n",
    "show(p)"
   ]
  },
  {
   "cell_type": "markdown",
   "metadata": {
    "slideshow": {
     "slide_type": "slide"
    }
   },
   "source": [
    "## 4.- Geoplotlib\n",
    "### Ejemplo gráfico de barras"
   ]
  },
  {
   "cell_type": "code",
   "execution_count": 44,
   "metadata": {
    "scrolled": true,
    "slideshow": {
     "slide_type": "fragment"
    }
   },
   "outputs": [
    {
     "name": "stdout",
     "output_type": "stream",
     "text": [
      "Requirement already satisfied: geoplotlib in c:\\users\\fabri\\anaconda3\\lib\\site-packages (0.3.2)\n",
      "Collecting pyglet\n",
      "  Downloading https://files.pythonhosted.org/packages/1c/fc/dad5eaaab68f0c21e2f906a94ddb98175662cc5a654eee404d59554ce0fa/pyglet-1.3.2-py2.py3-none-any.whl (1.0MB)\n",
      "Requirement already satisfied: future in c:\\users\\fabri\\anaconda3\\lib\\site-packages (from pyglet) (0.17.1)\n",
      "Installing collected packages: pyglet\n",
      "Successfully installed pyglet-1.3.2\n"
     ]
    }
   ],
   "source": [
    "# instalar la libreria ya que no viene por defecto\n",
    "!pip install geoplotlib\n",
    "!pip install pyglet"
   ]
  },
  {
   "cell_type": "code",
   "execution_count": 1,
   "metadata": {
    "slideshow": {
     "slide_type": "fragment"
    }
   },
   "outputs": [],
   "source": [
    "# Importar la libreria\n",
    "import geoplotlib\n",
    "from geoplotlib.utils import read_csv\n",
    "\n",
    "#se puede usar su módulo de lectura de CSV, el archivo está en la carpeta data/\n",
    "data = read_csv('data/bus.csv')\n",
    "#construir el gráfico de puntos\n",
    "geoplotlib.dot(data)\n",
    "#imprimir\n",
    "geoplotlib.show()"
   ]
  }
 ],
 "metadata": {
  "celltoolbar": "Slideshow",
  "kernelspec": {
   "display_name": "Python 3",
   "language": "python",
   "name": "python3"
  },
  "language_info": {
   "codemirror_mode": {
    "name": "ipython",
    "version": 3
   },
   "file_extension": ".py",
   "mimetype": "text/x-python",
   "name": "python",
   "nbconvert_exporter": "python",
   "pygments_lexer": "ipython3",
   "version": "3.7.3"
  }
 },
 "nbformat": 4,
 "nbformat_minor": 2
}
